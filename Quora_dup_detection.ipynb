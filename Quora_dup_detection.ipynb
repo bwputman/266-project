{
 "cells": [
  {
   "cell_type": "markdown",
   "metadata": {},
   "source": [
    "https://www.kaggle.com/c/quora-question-pairs\n"
   ]
  },
  {
   "cell_type": "code",
   "execution_count": 2,
   "metadata": {},
   "outputs": [
    {
     "data": {
      "text/html": [
       "<script>requirejs.config({paths: { 'plotly': ['https://cdn.plot.ly/plotly-latest.min']},});if(!window.Plotly) {{require(['plotly'],function(plotly) {window.Plotly=plotly;});}}</script>"
      ],
      "text/vnd.plotly.v1+html": [
       "<script>requirejs.config({paths: { 'plotly': ['https://cdn.plot.ly/plotly-latest.min']},});if(!window.Plotly) {{require(['plotly'],function(plotly) {window.Plotly=plotly;});}}</script>"
      ]
     },
     "metadata": {},
     "output_type": "display_data"
    },
    {
     "name": "stdout",
     "output_type": "stream",
     "text": [
      "last updated: Sun Jul 23 2017 23:31:21 China Standard Time\n",
      "\n",
      "CPython 3.5.3\n",
      "IPython 6.1.0\n",
      "\n",
      "tensorflow 1.2.1\n",
      "pandas 0.20.1\n",
      "scipy 0.19.0\n",
      "numpy 1.13.1\n",
      "plotly 2.0.9\n",
      "\n",
      "compiler   : MSC v.1900 64 bit (AMD64)\n",
      "system     : Windows\n",
      "release    : 8.1\n",
      "machine    : AMD64\n",
      "processor  : Intel64 Family 6 Model 69 Stepping 1, GenuineIntel\n",
      "CPU cores  : 4\n",
      "interpreter: 64bit\n"
     ]
    }
   ],
   "source": [
    "import os, sys, string\n",
    "import re\n",
    "import time\n",
    "import itertools\n",
    "\n",
    "import tensorflow as tf\n",
    "import nltk \n",
    "import numpy as np\n",
    "import pandas as pd\n",
    "import scipy\n",
    "import seaborn as sns\n",
    "import matplotlib.pyplot as plt\n",
    "import sklearn.model_selection as model_selection\n",
    "from sklearn.manifold import TSNE\n",
    "\n",
    "from collections import Counter\n",
    "\n",
    "\n",
    "from collections import Counter\n",
    "from nltk.tokenize import sent_tokenize, word_tokenize\n",
    "from nltk.corpus import stopwords\n",
    "from nltk.stem.snowball import SnowballStemmer\n",
    "from nltk.probability import FreqDist\n",
    "\n",
    "%matplotlib inline\n",
    "import plotly.offline as py\n",
    "py.init_notebook_mode(connected=True)\n",
    "import plotly.graph_objs as go\n",
    "import plotly.tools as tls\n",
    "\n",
    "\n",
    "import pprint\n",
    "pp = pprint.PrettyPrinter(indent=4)\n",
    "#import tflearn\n",
    "\n",
    "from pivottablejs import pivot_ui\n",
    "\n",
    "%load_ext watermark\n",
    "\n",
    "%watermark -u -n -t -z -v -m -p tensorflow,pandas,scipy,numpy,plotly "
   ]
  },
  {
   "cell_type": "code",
   "execution_count": 3,
   "metadata": {},
   "outputs": [
    {
     "name": "stdout",
     "output_type": "stream",
     "text": [
      "[nltk_data] Downloading package stopwords to C:\\nltk_data...\n",
      "[nltk_data]   Package stopwords is already up-to-date!\n"
     ]
    },
    {
     "data": {
      "text/plain": [
       "True"
      ]
     },
     "execution_count": 3,
     "metadata": {},
     "output_type": "execute_result"
    }
   ],
   "source": [
    "# https://www.dataquest.io/blog/jupyter-notebook-tips-tricks-shortcuts/\n",
    "\n",
    "# enable output for each command lines. By default, IPython only show ouput for the last command in the cell\n",
    "from IPython.core.interactiveshell import InteractiveShell\n",
    "InteractiveShell.ast_node_interactivity = \"all\"\n",
    "\n",
    "\n",
    "nltk.download('stopwords')"
   ]
  },
  {
   "cell_type": "markdown",
   "metadata": {},
   "source": [
    "## Read Training Data"
   ]
  },
  {
   "cell_type": "code",
   "execution_count": 4,
   "metadata": {},
   "outputs": [
    {
     "data": {
      "text/html": [
       "<script>requirejs.config({paths: { 'plotly': ['https://cdn.plot.ly/plotly-latest.min']},});if(!window.Plotly) {{require(['plotly'],function(plotly) {window.Plotly=plotly;});}}</script>"
      ],
      "text/vnd.plotly.v1+html": [
       "<script>requirejs.config({paths: { 'plotly': ['https://cdn.plot.ly/plotly-latest.min']},});if(!window.Plotly) {{require(['plotly'],function(plotly) {window.Plotly=plotly;});}}</script>"
      ]
     },
     "metadata": {},
     "output_type": "display_data"
    }
   ],
   "source": [
    "# Plotly imports.\n",
    "# import plotly.offline as plotly\n",
    "from plotly.offline import download_plotlyjs, init_notebook_mode, plot, iplot\n",
    "\n",
    "\n",
    "import plotly.figure_factory as ff\n",
    "\n",
    "import plotly.graph_objs as go\n",
    "#from plotly.graph_objs import *\n",
    "\n",
    "init_notebook_mode(connected= True)"
   ]
  },
  {
   "cell_type": "code",
   "execution_count": 5,
   "metadata": {
    "collapsed": true
   },
   "outputs": [],
   "source": [
    "df = pd.read_csv(\"./data/train.csv\", encoding='utf-8').fillna(\"\")"
   ]
  },
  {
   "cell_type": "code",
   "execution_count": null,
   "metadata": {
    "collapsed": true
   },
   "outputs": [],
   "source": []
  },
  {
   "cell_type": "code",
   "execution_count": 6,
   "metadata": {},
   "outputs": [
    {
     "name": "stdout",
     "output_type": "stream",
     "text": [
      "Total number of question pairs for training: 404290\n",
      "Duplicate pairs: 36.92%\n"
     ]
    },
    {
     "data": {
      "text/plain": [
       "0    1\n",
       "1    3\n",
       "2    5\n",
       "3    7\n",
       "4    9\n",
       "dtype: int64"
      ]
     },
     "execution_count": 6,
     "metadata": {},
     "output_type": "execute_result"
    },
    {
     "name": "stdout",
     "output_type": "stream",
     "text": [
      "Total number of questions in the training data: 537933\n",
      "Number of questions that appear multiple times: 111780\n"
     ]
    },
    {
     "data": {
      "text/plain": [
       "<matplotlib.figure.Figure at 0x1cde595c18>"
      ]
     },
     "execution_count": 6,
     "metadata": {},
     "output_type": "execute_result"
    },
    {
     "data": {
      "text/plain": [
       "(array([  5.21491000e+05,   9.55300000e+03,   2.93000000e+03,\n",
       "          1.44500000e+03,   7.90000000e+02,   5.32000000e+02,\n",
       "          3.70000000e+02,   2.68000000e+02,   2.03000000e+02,\n",
       "          1.01000000e+02,   7.70000000e+01,   3.50000000e+01,\n",
       "          3.50000000e+01,   3.30000000e+01,   2.10000000e+01,\n",
       "          1.70000000e+01,   1.50000000e+01,   6.00000000e+00,\n",
       "          1.00000000e+00,   2.00000000e+00,   1.00000000e+00,\n",
       "          1.00000000e+00,   0.00000000e+00,   0.00000000e+00,\n",
       "          1.00000000e+00,   1.00000000e+00,   0.00000000e+00,\n",
       "          1.00000000e+00,   0.00000000e+00,   0.00000000e+00,\n",
       "          0.00000000e+00,   0.00000000e+00,   0.00000000e+00,\n",
       "          0.00000000e+00,   0.00000000e+00,   1.00000000e+00,\n",
       "          0.00000000e+00,   0.00000000e+00,   1.00000000e+00,\n",
       "          0.00000000e+00,   0.00000000e+00,   0.00000000e+00,\n",
       "          0.00000000e+00,   0.00000000e+00,   0.00000000e+00,\n",
       "          0.00000000e+00,   0.00000000e+00,   0.00000000e+00,\n",
       "          0.00000000e+00,   1.00000000e+00]),\n",
       " array([   1.  ,    4.12,    7.24,   10.36,   13.48,   16.6 ,   19.72,\n",
       "          22.84,   25.96,   29.08,   32.2 ,   35.32,   38.44,   41.56,\n",
       "          44.68,   47.8 ,   50.92,   54.04,   57.16,   60.28,   63.4 ,\n",
       "          66.52,   69.64,   72.76,   75.88,   79.  ,   82.12,   85.24,\n",
       "          88.36,   91.48,   94.6 ,   97.72,  100.84,  103.96,  107.08,\n",
       "         110.2 ,  113.32,  116.44,  119.56,  122.68,  125.8 ,  128.92,\n",
       "         132.04,  135.16,  138.28,  141.4 ,  144.52,  147.64,  150.76,\n",
       "         153.88,  157.  ]),\n",
       " <a list of 50 Patch objects>)"
      ]
     },
     "execution_count": 6,
     "metadata": {},
     "output_type": "execute_result"
    },
    {
     "data": {
      "text/plain": [
       "<matplotlib.text.Text at 0x1cd54849e8>"
      ]
     },
     "execution_count": 6,
     "metadata": {},
     "output_type": "execute_result"
    },
    {
     "data": {
      "text/plain": [
       "<matplotlib.text.Text at 0x1cd54729e8>"
      ]
     },
     "execution_count": 6,
     "metadata": {},
     "output_type": "execute_result"
    },
    {
     "data": {
      "text/plain": [
       "<matplotlib.text.Text at 0x1cd548b978>"
      ]
     },
     "execution_count": 6,
     "metadata": {},
     "output_type": "execute_result"
    },
    {
     "name": "stdout",
     "output_type": "stream",
     "text": [
      "\n"
     ]
    },
    {
     "data": {
      "image/png": "[encoded data removed]",
      "text/plain": [
       "<matplotlib.figure.Figure at 0x1cde595c18>"
      ]
     },
     "metadata": {},
     "output_type": "display_data"
    }
   ],
   "source": [
    "print('Total number of question pairs for training: {}'.format(len(df)))\n",
    "print('Duplicate pairs: {}%'.format(round(df['is_duplicate'].mean()*100, 2)))\n",
    "\n",
    "    \n",
    "df_qids = pd.concat((df['qid1'],df['qid2']), axis =0) #pd.Series(df['qid1'].tolist() + df['qid2'].tolist())\n",
    "df_qids.head()\n",
    "#df_qids = pd.Categorical(df_qids)\n",
    "\n",
    "\n",
    "print('Total number of questions in the training data: {}'.format(len(\n",
    "    np.unique(df_qids))))\n",
    "print('Number of questions that appear multiple times: {}'.format(np.sum(df_qids.value_counts() > 1)))\n",
    "\n",
    "plt.figure(figsize=(12, 5))\n",
    "plt.hist(df_qids.value_counts(), bins=50)\n",
    "plt.yscale('log', nonposy='clip')\n",
    "plt.title('Log-Histogram of question appearance counts')\n",
    "plt.xlabel('Number of occurences of question')\n",
    "plt.ylabel('Number of questions')\n",
    "print()"
   ]
  },
  {
   "cell_type": "code",
   "execution_count": null,
   "metadata": {
    "collapsed": true
   },
   "outputs": [],
   "source": [
    "# df_qids.columns = [\"qid\"]\n",
    "# df_qids.dtypes\n",
    "# df_qids.columns\n",
    "#df_qids\n",
    "#trace = go.Histogram(df_qids)\n",
    "#iplot([trace])"
   ]
  },
  {
   "cell_type": "code",
   "execution_count": 11,
   "metadata": {},
   "outputs": [
    {
     "data": {
      "text/plain": [
       "((2559, 30782, 4044, 2561, 14376), (157, 120, 111, 88, 79))"
      ]
     },
     "execution_count": 11,
     "metadata": {},
     "output_type": "execute_result"
    },
    {
     "data": {
      "text/plain": [
       "[{'name': 'Counts',\n",
       "  'type': 'bar',\n",
       "  'x': ['2559', '30782', '4044', '2561', '14376'],\n",
       "  'y': [157, 120, 111, 88, 79]}]"
      ]
     },
     "execution_count": 11,
     "metadata": {},
     "output_type": "execute_result"
    },
    {
     "data": {
      "application/vnd.plotly.v1+json": {
       "data": [
        {
         "name": "Counts",
         "type": "bar",
         "x": [
          "2559",
          "30782",
          "4044",
          "2561",
          "14376"
         ],
         "y": [
          157,
          120,
          111,
          88,
          79
         ]
        }
       ],
       "layout": {}
      },
      "text/html": [
       "<div id=\"d051230e-ac80-4480-8334-2d6c1dedad44\" style=\"height: 525px; width: 100%;\" class=\"plotly-graph-div\"></div><script type=\"text/javascript\">require([\"plotly\"], function(Plotly) { window.PLOTLYENV=window.PLOTLYENV || {};window.PLOTLYENV.BASE_URL=\"https://plot.ly\";Plotly.newPlot(\"d051230e-ac80-4480-8334-2d6c1dedad44\", [{\"name\": \"Counts\", \"y\": [157, 120, 111, 88, 79], \"x\": [\"2559\", \"30782\", \"4044\", \"2561\", \"14376\"], \"type\": \"bar\"}], {}, {\"linkText\": \"Export to plot.ly\", \"showLink\": true})});</script>"
      ],
      "text/vnd.plotly.v1+html": [
       "<div id=\"d051230e-ac80-4480-8334-2d6c1dedad44\" style=\"height: 525px; width: 100%;\" class=\"plotly-graph-div\"></div><script type=\"text/javascript\">require([\"plotly\"], function(Plotly) { window.PLOTLYENV=window.PLOTLYENV || {};window.PLOTLYENV.BASE_URL=\"https://plot.ly\";Plotly.newPlot(\"d051230e-ac80-4480-8334-2d6c1dedad44\", [{\"name\": \"Counts\", \"y\": [157, 120, 111, 88, 79], \"x\": [\"2559\", \"30782\", \"4044\", \"2561\", \"14376\"], \"type\": \"bar\"}], {}, {\"linkText\": \"Export to plot.ly\", \"showLink\": true})});</script>"
      ]
     },
     "metadata": {},
     "output_type": "display_data"
    }
   ],
   "source": [
    "\n",
    "qids_count = Counter(df_qids)\n",
    "#qids_count.most_common(1000)\n",
    "#qids_count.keys()\n",
    "#qids_count.values()\n",
    "\n",
    "# sns.barplot(x=\"day\", y=\"total_bill\", data=qids_count)\n",
    "\n",
    "# #sns.barplot(x=qids_count.keys(), y=qids_count.values())\n",
    "\n",
    "qids, counts = zip(*qids_count.most_common(5))\n",
    "qids, counts\n",
    "qids = list(map(str, qids))\n",
    "\n",
    "# trace = dict(x=qids, y=counts)\n",
    "# data = [trace]\n",
    "# py.plot(data, filename='ia_county_populations')\n",
    "\n",
    "data = [go.Bar(x=qids, y=list(counts), name='Counts')]\n",
    "data\n",
    "iplot(data)"
   ]
  },
  {
   "cell_type": "code",
   "execution_count": null,
   "metadata": {
    "collapsed": true
   },
   "outputs": [],
   "source": [
    "df.head(10)\n",
    "df.tail(10)"
   ]
  },
  {
   "cell_type": "code",
   "execution_count": null,
   "metadata": {
    "collapsed": true
   },
   "outputs": [],
   "source": [
    "df.info()\n",
    "df.shape\n",
    "df.describe()"
   ]
  },
  {
   "cell_type": "code",
   "execution_count": null,
   "metadata": {
    "collapsed": true
   },
   "outputs": [],
   "source": [
    "df.groupby(\"is_duplicate\")['id'].count().plot.bar()"
   ]
  },
  {
   "cell_type": "markdown",
   "metadata": {},
   "source": [
    "## Feature Extraction"
   ]
  },
  {
   "cell_type": "code",
   "execution_count": null,
   "metadata": {
    "collapsed": true
   },
   "outputs": [],
   "source": []
  },
  {
   "cell_type": "markdown",
   "metadata": {},
   "source": [
    "### 1. TF-IDF"
   ]
  },
  {
   "cell_type": "code",
   "execution_count": null,
   "metadata": {
    "collapsed": true
   },
   "outputs": [],
   "source": [
    "# X_train_q1, X_train_q2 = X_train[['id','qid1', 'question1']], X_train[['id','qid2', 'question2']]\n",
    "# X_train_q1.columns = ['id','qid1', 'question']\n",
    "# X_train_q2.columns = ['id','qid2', 'question']\n",
    "\n",
    "# # merge two two dfs, there are two nans for question\n",
    "# X_train_q = pd.concat((X_train_q1, X_train_q2), axis=0).fillna(\"\")\n",
    "# nrows_for_q1 = X_train_q2.shape[0]/2\n",
    "# X_train_q2.shape\n",
    "# nrows_for_q1"
   ]
  },
  {
   "cell_type": "code",
   "execution_count": null,
   "metadata": {
    "collapsed": true
   },
   "outputs": [],
   "source": [
    "# mq1 = TfidfVectorizer(max_features = 256).fit_transform(X_train_q['question'].values)\n",
    "# mq1\n",
    "\n",
    "# diff_encodings = np.abs(mq1[::2] - mq1[1::2])\n",
    "# diff_encodings"
   ]
  },
  {
   "cell_type": "markdown",
   "metadata": {},
   "source": [
    "####  TSNE "
   ]
  },
  {
   "cell_type": "markdown",
   "metadata": {},
   "source": [
    "## Word Tokenizer and Word Share"
   ]
  },
  {
   "cell_type": "code",
   "execution_count": 1,
   "metadata": {},
   "outputs": [
    {
     "ename": "NameError",
     "evalue": "name 'SnowballStemmer' is not defined",
     "output_type": "error",
     "traceback": [
      "\u001b[1;31m---------------------------------------------------------------------------\u001b[0m",
      "\u001b[1;31mNameError\u001b[0m                                 Traceback (most recent call last)",
      "\u001b[1;32m<ipython-input-1-e8217619303f>\u001b[0m in \u001b[0;36m<module>\u001b[1;34m()\u001b[0m\n\u001b[0;32m     29\u001b[0m     \u001b[1;32melse\u001b[0m\u001b[1;33m:\u001b[0m \u001b[1;32mreturn\u001b[0m \u001b[1;34m\"<unk>\"\u001b[0m \u001b[1;31m# unknown token\u001b[0m\u001b[1;33m\u001b[0m\u001b[0m\n\u001b[0;32m     30\u001b[0m \u001b[1;33m\u001b[0m\u001b[0m\n\u001b[1;32m---> 31\u001b[1;33m \u001b[0mstemmer\u001b[0m \u001b[1;33m=\u001b[0m \u001b[0mSnowballStemmer\u001b[0m\u001b[1;33m(\u001b[0m\u001b[1;34m\"english\"\u001b[0m\u001b[1;33m)\u001b[0m\u001b[1;33m\u001b[0m\u001b[0m\n\u001b[0m\u001b[0;32m     32\u001b[0m \u001b[1;32mdef\u001b[0m \u001b[0mcount_words\u001b[0m\u001b[1;33m(\u001b[0m\u001b[0mrow\u001b[0m\u001b[1;33m,\u001b[0m \u001b[0mcol\u001b[0m\u001b[1;33m,\u001b[0m \u001b[0mstart_token\u001b[0m \u001b[1;33m=\u001b[0m \u001b[1;32mFalse\u001b[0m\u001b[1;33m,\u001b[0m \u001b[0mstemming\u001b[0m \u001b[1;33m=\u001b[0m \u001b[1;32mFalse\u001b[0m\u001b[1;33m)\u001b[0m\u001b[1;33m:\u001b[0m\u001b[1;33m\u001b[0m\u001b[0m\n\u001b[0;32m     33\u001b[0m     \u001b[0ms\u001b[0m \u001b[1;33m=\u001b[0m \u001b[0mrow\u001b[0m\u001b[1;33m[\u001b[0m\u001b[0mcol\u001b[0m\u001b[1;33m]\u001b[0m\u001b[1;33m\u001b[0m\u001b[0m\n",
      "\u001b[1;31mNameError\u001b[0m: name 'SnowballStemmer' is not defined"
     ]
    }
   ],
   "source": [
    "\n",
    "\n",
    "\n",
    "def flatten(list_of_lists):\n",
    "    \"\"\"Flatten a list-of-lists into a single list.\"\"\"\n",
    "    return list(itertools.chain.from_iterable(list_of_lists))\n",
    "\n",
    "# Word processing functions\n",
    "def canonicalize_digits(word):\n",
    "    if any([c.isalpha() for c in word]): return word\n",
    "    word = re.sub(\"\\d\", \"DG\", word)\n",
    "    if word.startswith(\"DG\"):\n",
    "        word = word.replace(\",\", \"\") # remove thousands separator\n",
    "    return word\n",
    "\n",
    "def canonicalize_word(word, wordset=None, digits=False, rm_punc = False, rm_stop_words = True):\n",
    "    word = word.lower()\n",
    "    if rm_punc == True and word in set(string.punctuation):\n",
    "        return None\n",
    "    \n",
    "    if rm_stop_words == True and word in stopwords.words('english'):\n",
    "        return None\n",
    "    \n",
    "    if digits:\n",
    "        if (wordset != None) and (word in wordset): return word\n",
    "        word = canonicalize_digits(word) # try to canonicalize numbers\n",
    "        \n",
    "    if (wordset == None) or (word in wordset): return word\n",
    "    else: return \"<unk>\" # unknown token\n",
    "\n",
    "stemmer = SnowballStemmer(\"english\")    \n",
    "def count_words(row, col, start_token = False, stemming = False):\n",
    "    s = row[col]\n",
    "    if start_token == False:\n",
    "        tokens = [word_tokenize(t) for t in sent_tokenize(s)]\n",
    "    else:\n",
    "        tokens = ([\"<s>\"] + word_tokenize(t) + [\"</s>\"] for t in sent_tokenize(s)) # generator expression\n",
    "    #return [canonicalize_word(w) for w in flatten(tokens)]    \n",
    "    words = []\n",
    "\n",
    "    for w in flatten(tokens):\n",
    "        w_ = canonicalize_word(w)\n",
    "        if w_ != None:                    \n",
    "            if stemming:\n",
    "                w_ = stemmer.stem(w_)\n",
    "            words.append(w_)\n",
    "    return words\n",
    "           \n",
    "def word_share(row, col1, col2):\n",
    "    word_set1 = set(row[col1])\n",
    "    word_set2 = set(row[col2])\n",
    "    return 1.0 * len(word_set1 & word_set2)/(len(word_set1) + len(word_set2))\n",
    "\n",
    "    return 1.0 * len(word_set1 & word_set2)/(len(word_set1) + len(word_set2))\n"
   ]
  },
  {
   "cell_type": "code",
   "execution_count": null,
   "metadata": {
    "collapsed": true
   },
   "outputs": [],
   "source": [
    "df['words1'] = df.apply(count_words, axis=1, col = 'question1')\n",
    "df['words2'] = df.apply(count_words, axis=1, col = 'question2')\n",
    "\n",
    "df['q1_n_words'] = df['words1'].apply(lambda words: len(words))\n",
    "df['q2_n_words'] = df['words2'].apply(lambda words: len(words))\n",
    "\n",
    "df['words_share'] = df.apply(word_share, axis=1, col1 = 'words1', col2 = 'words2')\n",
    "\n",
    "df.head()"
   ]
  },
  {
   "cell_type": "code",
   "execution_count": null,
   "metadata": {
    "collapsed": true
   },
   "outputs": [],
   "source": [
    "X = df\n",
    "Y = df[['id','is_duplicate']]\n",
    "\n",
    "# leave out 20% for test set set\n",
    "X_train, X_test, Y_train, Y_test = model_selection.train_test_split(X, Y, test_size=0.20, random_state=42)\n",
    "\n",
    "X_train\n",
    "Y_train\n",
    "\n",
    "X_test\n",
    "Y_test"
   ]
  },
  {
   "cell_type": "code",
   "execution_count": null,
   "metadata": {
    "collapsed": true
   },
   "outputs": [],
   "source": [
    "X_train_mini = X_train[:5000].copy()\n",
    "\n",
    "\n",
    "# X_train_mini['words1'] = X_train_mini.apply(count_words, axis=1, col = 'question1')\n",
    "# X_train_mini['words2'] = X_train_mini.apply(count_words, axis=1, col = 'question2')\n",
    "\n",
    "# X_train_mini['q1_n_words'] = X_train_mini['words1'].apply(lambda words: len(words))\n",
    "# X_train_mini['q2_n_words'] = X_train_mini['words2'].apply(lambda words: len(words))\n",
    "\n",
    "# X_train_mini['words_share'] = X_train_mini.apply(word_share, axis=1, col1 = 'words1', col2 = 'words2')\n",
    "\n",
    "# X_train_mini.head()"
   ]
  },
  {
   "cell_type": "code",
   "execution_count": null,
   "metadata": {
    "collapsed": true
   },
   "outputs": [],
   "source": [
    "plt.figure(figsize=(12, 8))\n",
    "plt.subplot(1,2,1)\n",
    "sns.violinplot(x = 'is_duplicate', y = 'words_share', data = X_train)\n",
    "plt.subplot(1,2,2)\n",
    "sns.distplot(X_train_mini[X_train['is_duplicate'] == 1.0]['words_share'], color = 'green')\n",
    "sns.distplot(X_train_mini[X_train['is_duplicate'] == 0.0]['words_share'], color = 'red')"
   ]
  },
  {
   "cell_type": "code",
   "execution_count": null,
   "metadata": {
    "collapsed": true
   },
   "outputs": [],
   "source": [
    "trace = go.Scatter(\n",
    "    y = X_train_mini['q1_n_words'].values,\n",
    "    x = X_train_mini['q2_n_words'].values,\n",
    "    mode='markers',\n",
    "    marker=dict(\n",
    "        size= X_train_mini['words_share'].values * 60,\n",
    "        color = X_train_mini['is_duplicate'].values,\n",
    "        colorscale='Portland',\n",
    "        showscale=True,\n",
    "        opacity=0.5,\n",
    "        colorbar = dict(title = 'duplicate')\n",
    "    ),\n",
    "    text = np.round(X_train_mini['words_share'].values, decimals=2)\n",
    ")\n",
    "data = [trace]\n",
    "\n",
    "layout= go.Layout(\n",
    "    autosize= True,\n",
    "    title= 'Scatter plot of word count of question one and two',\n",
    "    hovermode= 'closest',\n",
    "        xaxis=dict(\n",
    "        showgrid=False,\n",
    "        zeroline=False,\n",
    "        showline=False\n",
    "    ),\n",
    "    yaxis=dict(\n",
    "        title= 'Question words count',\n",
    "        ticklen= 5,\n",
    "        gridwidth= 2,\n",
    "        showgrid=False,\n",
    "        zeroline=False,\n",
    "        showline=False,\n",
    "    ),\n",
    "    showlegend= False\n",
    ")\n",
    "fig = go.Figure(data=data, layout=layout)\n",
    "py.iplot(fig,filename='scatterWords')"
   ]
  },
  {
   "cell_type": "markdown",
   "metadata": {},
   "source": [
    "\n",
    "\n",
    "### 2. Embedding "
   ]
  },
  {
   "cell_type": "code",
   "execution_count": null,
   "metadata": {
    "collapsed": true
   },
   "outputs": [],
   "source": [
    "from sklearn.preprocessing import MinMaxScaler\n",
    "\n",
    "\n",
    "X_ = MinMaxScaler().fit_transform(X_train_mini[['q1_n_words', 'q2_n_words', 'words_share']])\n",
    "Y_ = X_train_mini['is_duplicate'].values"
   ]
  },
  {
   "cell_type": "code",
   "execution_count": null,
   "metadata": {
    "collapsed": true
   },
   "outputs": [],
   "source": [
    "tsne = TSNE(\n",
    "    n_components=3,\n",
    "    init='random', # pca\n",
    "    random_state=101,\n",
    "    method='barnes_hut',\n",
    "    n_iter=200,\n",
    "    verbose=2,\n",
    "    angle=0.5\n",
    ").fit_transform(X_)"
   ]
  },
  {
   "cell_type": "code",
   "execution_count": null,
   "metadata": {
    "collapsed": true
   },
   "outputs": [],
   "source": [
    "trace1 = go.Scatter3d(\n",
    "    x=tsne[:,0],\n",
    "    y=tsne[:,1],\n",
    "    z=tsne[:,2],\n",
    "    mode='markers',\n",
    "    marker=dict(\n",
    "        sizemode='diameter',\n",
    "        color = Y_,\n",
    "        colorscale = 'Portland',\n",
    "        colorbar = dict(title = 'duplicate'),\n",
    "        line=dict(color='rgb(255, 255, 255)'),\n",
    "        opacity=0.50\n",
    "    )\n",
    ")\n",
    "\n",
    "data=[trace1]\n",
    "layout=dict(height=800, width=800, title='3d embedding with engineered features')\n",
    "fig=dict(data=data, layout=layout)\n",
    "py.iplot(fig, filename='3DBubble')"
   ]
  },
  {
   "cell_type": "markdown",
   "metadata": {},
   "source": [
    "## Model "
   ]
  },
  {
   "cell_type": "code",
   "execution_count": null,
   "metadata": {
    "collapsed": true
   },
   "outputs": [],
   "source": [
    "from sklearn.linear_model import LogisticRegression\n",
    "from sklearn.metrics import precision_recall_curve, auc, roc_curve\n",
    "from sklearn.model_selection import GridSearchCV, train_test_split\n",
    "from sklearn.preprocessing import MinMaxScaler\n",
    "\n",
    "# split the Train test into Train and Dev \n",
    "# X_train_, X_dev_, Y_train_, Y_dev_ = model_selection.train_test_split(\n",
    "#                 X_train[['q1_n_words', 'q2_n_words', 'words_share']], \n",
    "#                 Y_train['is_duplicate'], \n",
    "#                 test_size=0.25, \n",
    "#                 random_state=777)\n",
    "\n",
    "\n",
    "X_ = MinMaxScaler().fit_transform(X_train[['q1_n_words', 'q2_n_words', 'words_share']])\n",
    "Y_ = Y_train['is_duplicate']\n",
    "\n",
    "#X = scaler.transform(df[['q1len', 'q2len', 'q1_n_words', 'q2_n_words', 'word_share']])\n",
    "\n",
    "\n",
    "X_train_, X_dev_, Y_train_, Y_dev_ = train_test_split(X_, Y_, test_size=0.25, random_state=777)\n",
    "\n",
    "X_train_.shape, X_dev_.shape, Y_train_.shape, Y_dev_.shape\n",
    "\n",
    "X_train_\n",
    "Y_train_\n",
    "X_dev_\n",
    "Y_dev_\n",
    "\n"
   ]
  },
  {
   "cell_type": "code",
   "execution_count": null,
   "metadata": {
    "collapsed": true
   },
   "outputs": [],
   "source": [
    "clf = LogisticRegression()\n",
    "grid = {\n",
    "    'C': [1e-6, 1e-3, 1e0],\n",
    "    'penalty': ['l1', 'l2']\n",
    "}\n",
    "cv = GridSearchCV(clf, grid, scoring='neg_log_loss', n_jobs=-1, verbose=1)\n",
    "cv.fit(X_train_, Y_train_)"
   ]
  },
  {
   "cell_type": "code",
   "execution_count": null,
   "metadata": {
    "collapsed": true
   },
   "outputs": [],
   "source": [
    "for i in range(1, len(cv.cv_results_['params'])+1):\n",
    "    rank = cv.cv_results_['rank_test_score'][i-1]\n",
    "    s = cv.cv_results_['mean_test_score'][i-1]\n",
    "    sd = cv.cv_results_['std_test_score'][i-1]\n",
    "    params = cv.cv_results_['params'][i-1]\n",
    "    print(\"{0}. Mean validation neg log loss: {1:.3f} (std: {2:.3f}) - {3}\".format(\n",
    "        rank,\n",
    "        s,\n",
    "        sd,\n",
    "        params\n",
    "    ))"
   ]
  },
  {
   "cell_type": "code",
   "execution_count": null,
   "metadata": {
    "collapsed": true
   },
   "outputs": [],
   "source": [
    "print(cv.best_params_)\n",
    "print(cv.best_estimator_.coef_)"
   ]
  },
  {
   "cell_type": "markdown",
   "metadata": {},
   "source": [
    "#### ROC\n"
   ]
  },
  {
   "cell_type": "code",
   "execution_count": 1,
   "metadata": {},
   "outputs": [
    {
     "ename": "NameError",
     "evalue": "name 'plt' is not defined",
     "output_type": "error",
     "traceback": [
      "\u001b[1;31m---------------------------------------------------------------------------\u001b[0m",
      "\u001b[1;31mNameError\u001b[0m                                 Traceback (most recent call last)",
      "\u001b[1;32m<ipython-input-1-813580a671b3>\u001b[0m in \u001b[0;36m<module>\u001b[1;34m()\u001b[0m\n\u001b[0;32m      3\u001b[0m \u001b[0mCs\u001b[0m \u001b[1;33m=\u001b[0m \u001b[1;33m[\u001b[0m\u001b[1;36m1e-6\u001b[0m\u001b[1;33m,\u001b[0m \u001b[1;36m1e-4\u001b[0m\u001b[1;33m,\u001b[0m \u001b[1;36m1e0\u001b[0m\u001b[1;33m]\u001b[0m\u001b[1;33m\u001b[0m\u001b[0m\n\u001b[0;32m      4\u001b[0m \u001b[1;33m\u001b[0m\u001b[0m\n\u001b[1;32m----> 5\u001b[1;33m \u001b[0mplt\u001b[0m\u001b[1;33m.\u001b[0m\u001b[0mfigure\u001b[0m\u001b[1;33m(\u001b[0m\u001b[0mfigsize\u001b[0m\u001b[1;33m=\u001b[0m\u001b[1;33m(\u001b[0m\u001b[1;36m12\u001b[0m\u001b[1;33m,\u001b[0m\u001b[1;36m8\u001b[0m\u001b[1;33m)\u001b[0m\u001b[1;33m)\u001b[0m\u001b[1;33m\u001b[0m\u001b[0m\n\u001b[0m\u001b[0;32m      6\u001b[0m \u001b[0mplt\u001b[0m\u001b[1;33m.\u001b[0m\u001b[0mxlabel\u001b[0m\u001b[1;33m(\u001b[0m\u001b[1;34m'False Positive Rate'\u001b[0m\u001b[1;33m)\u001b[0m\u001b[1;33m\u001b[0m\u001b[0m\n\u001b[0;32m      7\u001b[0m \u001b[0mplt\u001b[0m\u001b[1;33m.\u001b[0m\u001b[0mylabel\u001b[0m\u001b[1;33m(\u001b[0m\u001b[1;34m'True Positive Rate'\u001b[0m\u001b[1;33m)\u001b[0m\u001b[1;33m\u001b[0m\u001b[0m\n",
      "\u001b[1;31mNameError\u001b[0m: name 'plt' is not defined"
     ]
    }
   ],
   "source": [
    "colors = ['r', 'g', 'b', 'y', 'k', 'c', 'm', 'brown', 'r']\n",
    "lw = 1\n",
    "Cs = [1e-6, 1e-4, 1e0]\n",
    "\n",
    "plt.figure(figsize=(12,8))\n",
    "plt.xlabel('False Positive Rate')\n",
    "plt.ylabel('True Positive Rate')\n",
    "plt.title('ROC Curve for different classifiers')\n",
    "\n",
    "plt.plot([0, 1], [0, 1], color='navy', lw=lw, linestyle='--')\n",
    "\n",
    "labels = []\n",
    "for idx, C in enumerate(Cs):\n",
    "    clf = LogisticRegression(C = C)\n",
    "    clf.fit(X_train_, Y_train_)\n",
    "    print(\"C: {}, parameters {} and intercept {}\".format(C, clf.coef_, clf.intercept_))\n",
    "    fpr, tpr, _ = roc_curve(Y_dev_, clf.predict_proba(X_dev_)[:,1])\n",
    "    roc_auc = auc(fpr, tpr)\n",
    "    plt.plot(fpr, tpr, lw=lw, color=colors[idx])\n",
    "    labels.append(\"C: {}, AUC = {}\".format(C, np.round(roc_auc, 4)))\n"
   ]
  },
  {
   "cell_type": "markdown",
   "metadata": {},
   "source": [
    "### Precision-Recall Curve\n"
   ]
  },
  {
   "cell_type": "code",
   "execution_count": null,
   "metadata": {
    "collapsed": true
   },
   "outputs": [],
   "source": [
    "pr, re, _ = precision_recall_curve(Y_dev_, cv.best_estimator_.predict_proba(X_dev_)[:,1])\n",
    "plt.figure(figsize=(12,8))\n",
    "plt.plot(re, pr)\n",
    "plt.title('PR Curve (AUC {})'.format(auc(re, pr)))\n",
    "plt.xlabel('Recall')\n",
    "plt.ylabel('Precision')"
   ]
  },
  {
   "cell_type": "code",
   "execution_count": null,
   "metadata": {
    "collapsed": true
   },
   "outputs": [],
   "source": []
  }
 ],
 "metadata": {
  "kernelspec": {
   "display_name": "Python [conda root]",
   "language": "python",
   "name": "conda-root-py"
  },
  "language_info": {
   "codemirror_mode": {
    "name": "ipython",
    "version": 3
   },
   "file_extension": ".py",
   "mimetype": "text/x-python",
   "name": "python",
   "nbconvert_exporter": "python",
   "pygments_lexer": "ipython3",
   "version": "3.5.3"
  }
 },
 "nbformat": 4,
 "nbformat_minor": 2
}
