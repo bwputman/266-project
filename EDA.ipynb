{
 "cells": [
  {
   "cell_type": "code",
   "execution_count": 33,
   "metadata": {
    "collapsed": true
   },
   "outputs": [],
   "source": [
    "from __future__ import division\n",
    "\n",
    "import nltk\n",
    "import numpy as np\n",
    "import pandas as pd\n",
    "import matplotlib.pyplot as plt\n",
    "%matplotlib inline"
   ]
  },
  {
   "cell_type": "code",
   "execution_count": 2,
   "metadata": {
    "collapsed": true
   },
   "outputs": [],
   "source": [
    "training_data = pd.read_csv( '/home/ubuntu/train.csv' )\n",
    "testing_data  = pd.read_csv( '/home/ubuntu/test.csv' )"
   ]
  },
  {
   "cell_type": "code",
   "execution_count": 3,
   "metadata": {},
   "outputs": [
    {
     "data": {
      "text/html": [
       "<div>\n",
       "<table border=\"1\" class=\"dataframe\">\n",
       "  <thead>\n",
       "    <tr style=\"text-align: right;\">\n",
       "      <th></th>\n",
       "      <th>id</th>\n",
       "      <th>qid1</th>\n",
       "      <th>qid2</th>\n",
       "      <th>question1</th>\n",
       "      <th>question2</th>\n",
       "      <th>is_duplicate</th>\n",
       "    </tr>\n",
       "  </thead>\n",
       "  <tbody>\n",
       "    <tr>\n",
       "      <th>0</th>\n",
       "      <td>0</td>\n",
       "      <td>1</td>\n",
       "      <td>2</td>\n",
       "      <td>What is the step by step guide to invest in sh...</td>\n",
       "      <td>What is the step by step guide to invest in sh...</td>\n",
       "      <td>0</td>\n",
       "    </tr>\n",
       "    <tr>\n",
       "      <th>1</th>\n",
       "      <td>1</td>\n",
       "      <td>3</td>\n",
       "      <td>4</td>\n",
       "      <td>What is the story of Kohinoor (Koh-i-Noor) Dia...</td>\n",
       "      <td>What would happen if the Indian government sto...</td>\n",
       "      <td>0</td>\n",
       "    </tr>\n",
       "    <tr>\n",
       "      <th>2</th>\n",
       "      <td>2</td>\n",
       "      <td>5</td>\n",
       "      <td>6</td>\n",
       "      <td>How can I increase the speed of my internet co...</td>\n",
       "      <td>How can Internet speed be increased by hacking...</td>\n",
       "      <td>0</td>\n",
       "    </tr>\n",
       "    <tr>\n",
       "      <th>3</th>\n",
       "      <td>3</td>\n",
       "      <td>7</td>\n",
       "      <td>8</td>\n",
       "      <td>Why am I mentally very lonely? How can I solve...</td>\n",
       "      <td>Find the remainder when [math]23^{24}[/math] i...</td>\n",
       "      <td>0</td>\n",
       "    </tr>\n",
       "    <tr>\n",
       "      <th>4</th>\n",
       "      <td>4</td>\n",
       "      <td>9</td>\n",
       "      <td>10</td>\n",
       "      <td>Which one dissolve in water quikly sugar, salt...</td>\n",
       "      <td>Which fish would survive in salt water?</td>\n",
       "      <td>0</td>\n",
       "    </tr>\n",
       "  </tbody>\n",
       "</table>\n",
       "</div>"
      ],
      "text/plain": [
       "   id  qid1  qid2                                          question1  \\\n",
       "0   0     1     2  What is the step by step guide to invest in sh...   \n",
       "1   1     3     4  What is the story of Kohinoor (Koh-i-Noor) Dia...   \n",
       "2   2     5     6  How can I increase the speed of my internet co...   \n",
       "3   3     7     8  Why am I mentally very lonely? How can I solve...   \n",
       "4   4     9    10  Which one dissolve in water quikly sugar, salt...   \n",
       "\n",
       "                                           question2  is_duplicate  \n",
       "0  What is the step by step guide to invest in sh...             0  \n",
       "1  What would happen if the Indian government sto...             0  \n",
       "2  How can Internet speed be increased by hacking...             0  \n",
       "3  Find the remainder when [math]23^{24}[/math] i...             0  \n",
       "4            Which fish would survive in salt water?             0  "
      ]
     },
     "execution_count": 3,
     "metadata": {},
     "output_type": "execute_result"
    }
   ],
   "source": [
    "training_data.head()"
   ]
  },
  {
   "cell_type": "code",
   "execution_count": 4,
   "metadata": {},
   "outputs": [
    {
     "data": {
      "text/html": [
       "<div>\n",
       "<table border=\"1\" class=\"dataframe\">\n",
       "  <thead>\n",
       "    <tr style=\"text-align: right;\">\n",
       "      <th></th>\n",
       "      <th>test_id</th>\n",
       "      <th>question1</th>\n",
       "      <th>question2</th>\n",
       "    </tr>\n",
       "  </thead>\n",
       "  <tbody>\n",
       "    <tr>\n",
       "      <th>0</th>\n",
       "      <td>0</td>\n",
       "      <td>How does the Surface Pro himself 4 compare wit...</td>\n",
       "      <td>Why did Microsoft choose core m3 and not core ...</td>\n",
       "    </tr>\n",
       "    <tr>\n",
       "      <th>1</th>\n",
       "      <td>1</td>\n",
       "      <td>Should I have a hair transplant at age 24? How...</td>\n",
       "      <td>How much cost does hair transplant require?</td>\n",
       "    </tr>\n",
       "    <tr>\n",
       "      <th>2</th>\n",
       "      <td>2</td>\n",
       "      <td>What but is the best way to send money from Ch...</td>\n",
       "      <td>What you send money to China?</td>\n",
       "    </tr>\n",
       "    <tr>\n",
       "      <th>3</th>\n",
       "      <td>3</td>\n",
       "      <td>Which food not emulsifiers?</td>\n",
       "      <td>What foods fibre?</td>\n",
       "    </tr>\n",
       "    <tr>\n",
       "      <th>4</th>\n",
       "      <td>4</td>\n",
       "      <td>How \"aberystwyth\" start reading?</td>\n",
       "      <td>How their can I start reading?</td>\n",
       "    </tr>\n",
       "  </tbody>\n",
       "</table>\n",
       "</div>"
      ],
      "text/plain": [
       "   test_id                                          question1  \\\n",
       "0        0  How does the Surface Pro himself 4 compare wit...   \n",
       "1        1  Should I have a hair transplant at age 24? How...   \n",
       "2        2  What but is the best way to send money from Ch...   \n",
       "3        3                        Which food not emulsifiers?   \n",
       "4        4                   How \"aberystwyth\" start reading?   \n",
       "\n",
       "                                           question2  \n",
       "0  Why did Microsoft choose core m3 and not core ...  \n",
       "1        How much cost does hair transplant require?  \n",
       "2                      What you send money to China?  \n",
       "3                                  What foods fibre?  \n",
       "4                     How their can I start reading?  "
      ]
     },
     "execution_count": 4,
     "metadata": {},
     "output_type": "execute_result"
    }
   ],
   "source": [
    "testing_data.head()"
   ]
  },
  {
   "cell_type": "code",
   "execution_count": 25,
   "metadata": {},
   "outputs": [
    {
     "name": "stdout",
     "output_type": "stream",
     "text": [
      "####################################################\n",
      "Total number of question pairs for training: 404290\n",
      "Duplicate pairs: 37.0%\n",
      "####################################################\n",
      "Total number of questions in the training data: 537933\n",
      "Number of questions that appear multiple times: 111780\n",
      "####################################################\n",
      "Training questions with question marks: 99.87%\n",
      "Training questions with [math] tags: 0.12%\n",
      "Training questions with full stops: 6.31%\n",
      "Training questions with capitalised first letters: 99.81%\n",
      "Training questions with capital letters: 99.95%\n",
      "Training questions with numbers: 11.83%\n",
      "####################################################\n"
     ]
    }
   ],
   "source": [
    "print '####################################################'\n",
    "\n",
    "print 'Total number of question pairs for training: {}'.format(len( training_data ))\n",
    "print 'Total number of duplicate question pairs: {}%'.format(round( training_data['is_duplicate'].mean()*100 ))\n",
    "\n",
    "print '####################################################'\n",
    "\n",
    "question_ids = pd.Series( training_data['qid1'].tolist() + training_data['qid2'].tolist() )\n",
    "print 'Total number of questions in the training data: {}'.format( len(np.unique(question_ids)) )\n",
    "print('Number of questions that appear multiple times: {}'.format( np.sum(question_ids.value_counts() > 1 )))\n",
    "\n",
    "print '####################################################'\n",
    "\n",
    "training_questions = pd.Series( training_data['question1'].tolist() + training_data['question2'].tolist() ).astype(str)\n",
    "\n",
    "print('Training questions with question marks: {:.2f}%'.format(np.mean(training_questions.apply(lambda x: '?' in x)) * 100))\n",
    "print('Training questions with [math] tags: {:.2f}%'.format(np.mean(training_questions.apply(lambda x: '[math]' in x)) * 100))\n",
    "print('Training questions with full stops: {:.2f}%'.format(np.mean(training_questions.apply(lambda x: '.' in x)) * 100))\n",
    "print('Training questions with capitalised first letters: {:.2f}%'.format(np.mean(training_questions.apply(lambda x: x[0].isupper())) * 100))\n",
    "print('Training questions with capital letters: {:.2f}%'.format(np.mean(training_questions.apply(lambda x: max([y.isupper() for y in x]))) * 100))\n",
    "print('Training questions with numbers: {:.2f}%'.format(np.mean(training_questions.apply(lambda x: max([y.isdigit() for y in x]))) * 100))\n",
    "\n",
    "print '####################################################'"
   ]
  },
  {
   "cell_type": "code",
   "execution_count": 26,
   "metadata": {},
   "outputs": [
    {
     "data": {
      "text/plain": [
       "<matplotlib.text.Text at 0x7fa6ea22c7d0>"
      ]
     },
     "execution_count": 26,
     "metadata": {},
     "output_type": "execute_result"
    },
    {
     "data": {
      "image/png": "[encoded data removed]",
      "text/plain": [
       "<matplotlib.figure.Figure at 0x7fa706d3c150>"
      ]
     },
     "metadata": {},
     "output_type": "display_data"
    }
   ],
   "source": [
    "####################################################\n",
    "\n",
    "question_ids = pd.Series( training_data['qid1'].tolist() + training_data['qid2'].tolist() )\n",
    "\n",
    "plt.hist(question_ids.value_counts(), bins=50)\n",
    "plt.yscale('log', nonposy='clip')\n",
    "plt.title('Log-Histogram of question appearance counts')\n",
    "plt.xlabel('Number of occurences of question')\n",
    "plt.ylabel('Number of questions')\n",
    "\n",
    "####################################################"
   ]
  },
  {
   "cell_type": "code",
   "execution_count": 17,
   "metadata": {},
   "outputs": [
    {
     "data": {
      "text/plain": [
       "<matplotlib.legend.Legend at 0x7fa706a51a10>"
      ]
     },
     "execution_count": 17,
     "metadata": {},
     "output_type": "execute_result"
    },
    {
     "data": {
      "image/png": "[encoded data removed]",
      "text/plain": [
       "<matplotlib.figure.Figure at 0x7fa706d3c7d0>"
      ]
     },
     "metadata": {},
     "output_type": "display_data"
    }
   ],
   "source": [
    "####################################################\n",
    "\n",
    "training_questions = pd.Series( training_data['question1'].tolist() + training_data['question2'].tolist() ).astype(str)\n",
    "testing_questions  = pd.Series( testing_data['question1'].tolist()  + testing_data['question2'].tolist() ).astype(str)\n",
    "\n",
    "training_distribution = training_questions.apply(len)\n",
    "testing_distribution  = testing_questions.apply(len)\n",
    "\n",
    "####################################################\n",
    "\n",
    "plt.hist (\n",
    "          x      = training_distribution, \n",
    "          bins   = 200, \n",
    "          range  = [0, 200], \n",
    "          color  = 'green', \n",
    "          normed = True, \n",
    "          label  = 'training_data'\n",
    "         )\n",
    "\n",
    "plt.hist (\n",
    "          x      = testing_distribution, \n",
    "          bins   = 200, \n",
    "          range  = [0, 200], \n",
    "          color  = 'red', \n",
    "          normed = True, \n",
    "          alpha  = 0.5, \n",
    "          label  = 'testing_data'\n",
    "         )\n",
    "\n",
    "plt.title (\n",
    "           s        = 'Normalised histogram of character count in questions', \n",
    "           fontsize = 15\n",
    "          )\n",
    "\n",
    "plt.xlabel (\n",
    "            s        = 'Number of characters', \n",
    "            fontsize = 15\n",
    "           )\n",
    "\n",
    "plt.ylabel (\n",
    "            s        = 'Probability', \n",
    "            fontsize = 15\n",
    "           )\n",
    "\n",
    "plt.legend()"
   ]
  },
  {
   "cell_type": "code",
   "execution_count": 18,
   "metadata": {},
   "outputs": [
    {
     "data": {
      "text/plain": [
       "<matplotlib.legend.Legend at 0x7fa6e7cec610>"
      ]
     },
     "execution_count": 18,
     "metadata": {},
     "output_type": "execute_result"
    },
    {
     "data": {
      "image/png": "[encoded data removed]",
      "text/plain": [
       "<matplotlib.figure.Figure at 0x7fa706c93190>"
      ]
     },
     "metadata": {},
     "output_type": "display_data"
    }
   ],
   "source": [
    "####################################################\n",
    "\n",
    "training_questions = pd.Series( training_data['question1'].tolist() + training_data['question2'].tolist() ).astype(str)\n",
    "testing_questions  = pd.Series( testing_data['question1'].tolist()  + testing_data['question2'].tolist() ).astype(str)\n",
    "\n",
    "training_distribution = training_questions.apply(lambda x: len(x.split(' ')))\n",
    "testing_distribution  = testing_questions.apply(lambda x: len(x.split(' ')))\n",
    "\n",
    "####################################################\n",
    "\n",
    "plt.hist (\n",
    "          x      = training_distribution, \n",
    "          bins   = 50, \n",
    "          range  = [0, 50], \n",
    "          color  = 'green', \n",
    "          normed = True, \n",
    "          label  = 'training_data'\n",
    "         )\n",
    "\n",
    "plt.hist (\n",
    "          x      = testing_distribution, \n",
    "          bins   = 50, \n",
    "          range  = [0, 50], \n",
    "          color  = 'red', \n",
    "          normed = True, \n",
    "          alpha  = 0.5, \n",
    "          label  = 'testing_data'\n",
    "         )\n",
    "\n",
    "plt.title (\n",
    "           s        = 'Normalised histogram of word count in questions', \n",
    "           fontsize = 15\n",
    "          )\n",
    "\n",
    "plt.xlabel (\n",
    "            s        = 'Number of words', \n",
    "            fontsize = 15\n",
    "           )\n",
    "\n",
    "plt.ylabel (\n",
    "            s        = 'Probability', \n",
    "            fontsize = 15\n",
    "           )\n",
    "\n",
    "plt.legend()"
   ]
  },
  {
   "cell_type": "code",
   "execution_count": 35,
   "metadata": {},
   "outputs": [
    {
     "data": {
      "text/plain": [
       "<matplotlib.legend.Legend at 0x7fa6d5968550>"
      ]
     },
     "execution_count": 35,
     "metadata": {},
     "output_type": "execute_result"
    },
    {
     "data": {
      "image/png": "[encoded data removed]",
      "text/plain": [
       "<matplotlib.figure.Figure at 0x7fa6d5be34d0>"
      ]
     },
     "metadata": {},
     "output_type": "display_data"
    }
   ],
   "source": [
    "\n",
    "stops = set(nltk.corpus.stopwords.words(\"english\"))\n",
    "\n",
    "####################################################\n",
    "\n",
    "def word_match_simple_count ( row ):\n",
    "    \n",
    "    question1_words = {}\n",
    "    question2_words = {}\n",
    "    \n",
    "    for word in str( row['question1'] ).lower().split():\n",
    "        \n",
    "        if word not in stops:\n",
    "            \n",
    "            question1_words[word] = 1\n",
    "            \n",
    "    for word in str( row['question2'] ).lower().split():\n",
    "        \n",
    "        if word not in stops:\n",
    "            \n",
    "            question2_words[word] = 1\n",
    "            \n",
    "    if len(question1_words) == 0 or len(question2_words) == 0:\n",
    "        return 0\n",
    "    \n",
    "    words_shared_question1 = [word for word in question1_words.keys() if word in question2_words]\n",
    "    words_shared_question2 = [word for word in question2_words.keys() if word in question1_words]\n",
    "    \n",
    "    return ( len(words_shared_question1) + len(words_shared_question2) ) / \\\n",
    "           ( len(question1_words)        + len(question2_words)        )\n",
    "\n",
    "####################################################\n",
    "\n",
    "training_data_word_match = training_data.apply (\n",
    "                                                func = word_match_simple_count, \n",
    "                                                axis = 1, \n",
    "                                                raw  = True\n",
    "                                               )\n",
    "\n",
    "plt.hist (\n",
    "          x      = training_data_word_match[training_data['is_duplicate'] == 0], \n",
    "          bins   = 20, \n",
    "          normed = True, \n",
    "          label  = 'Not Duplicate'\n",
    "         )\n",
    "\n",
    "plt.hist ( \n",
    "          x      = training_data_word_match[training_data['is_duplicate'] == 1], \n",
    "          bins   = 20, \n",
    "          normed = True, \n",
    "          alpha  = 0.7, \n",
    "          label  = 'Duplicate'\n",
    "         )\n",
    "\n",
    "plt.title (\n",
    "           s        = 'Label distribution over word_match_share', \n",
    "           fontsize = 15\n",
    "          )\n",
    "\n",
    "plt.xlabel (\n",
    "            s        = 'word_match_share', \n",
    "            fontsize = 15\n",
    "           )\n",
    "\n",
    "plt.legend()"
   ]
  },
  {
   "cell_type": "code",
   "execution_count": 85,
   "metadata": {},
   "outputs": [
    {
     "data": {
      "text/plain": [
       "array([[ 0.81940995,  0.        ,  0.57320793],\n",
       "       [ 1.        ,  0.        ,  0.        ],\n",
       "       [ 1.        ,  0.        ,  0.        ],\n",
       "       [ 1.        ,  0.        ,  0.        ],\n",
       "       [ 0.47330339,  0.88089948,  0.        ],\n",
       "       [ 0.58149261,  0.        ,  0.81355169]])"
      ]
     },
     "execution_count": 85,
     "metadata": {},
     "output_type": "execute_result"
    }
   ],
   "source": [
    "from sklearn.feature_extraction.text import TfidfTransformer\n",
    "\n",
    "transformer = TfidfTransformer(smooth_idf=False)\n",
    "\n",
    "transformer \n",
    "\n",
    "#training_questions = pd.Series( training_data['question1'].tolist() + training_data['question2'].tolist() ).astype(str)\n",
    "#testing_questions  = pd.Series( testing_data['question1'].tolist()  + testing_data['question2'].tolist() ).astype(str)\n",
    "\n",
    "counts = [[3, 0, 1],\n",
    "          [2, 0, 0],\n",
    "          [3, 0, 0],\n",
    "          [4, 0, 0],\n",
    "          [3, 2, 0],\n",
    "          [3, 0, 2]]\n",
    "\n",
    "tfidf = transformer.fit_transform(counts)\n",
    "\n",
    "tfidf.toarray() \n",
    "\n",
    "#print tf.get_feature_names()\n",
    "\n",
    "#print len(training_questions)\n",
    "\n",
    "\n",
    "\n",
    "#print tf.get_feature_names()[200:210]"
   ]
  },
  {
   "cell_type": "code",
   "execution_count": 39,
   "metadata": {
    "collapsed": true
   },
   "outputs": [],
   "source": [
    "# Label distribution over word_order_similarity"
   ]
  },
  {
   "cell_type": "code",
   "execution_count": 40,
   "metadata": {
    "collapsed": true
   },
   "outputs": [],
   "source": [
    "# Label distribution over semantic_similarity\n",
    "# http://sujitpal.blogspot.ca/2014/12/semantic-similarity-for-short-sentences.html"
   ]
  },
  {
   "cell_type": "code",
   "execution_count": 41,
   "metadata": {
    "collapsed": true
   },
   "outputs": [],
   "source": [
    "# http://scikit-learn.org/stable/modules/generated/sklearn.feature_extraction.text.TfidfVectorizer.html\n",
    "# tfidf - rare words\n",
    "# from sklearn.feature_extraction.text import TfidfTransformer\n",
    "# https://chisqr.wordpress.com/2017/07/03/classifying-duplicate-questions-with-tensorflow/"
   ]
  },
  {
   "cell_type": "code",
   "execution_count": 42,
   "metadata": {
    "collapsed": true
   },
   "outputs": [],
   "source": [
    "# from difflib import SequenceMatcher"
   ]
  },
  {
   "cell_type": "code",
   "execution_count": null,
   "metadata": {
    "collapsed": true
   },
   "outputs": [],
   "source": [
    "# from nltk.corpus import wordnet as wn\n",
    "# nltk.word_tokenize"
   ]
  },
  {
   "cell_type": "code",
   "execution_count": 86,
   "metadata": {
    "collapsed": true
   },
   "outputs": [],
   "source": [
    "# https://github.com/abhishekkrthakur/is_that_a_duplicate_quora_question/blob/master/feature_engineering.py"
   ]
  },
  {
   "cell_type": "code",
   "execution_count": null,
   "metadata": {
    "collapsed": true
   },
   "outputs": [],
   "source": []
  }
 ],
 "metadata": {
  "hide_input": false,
  "kernelspec": {
   "display_name": "Python 2",
   "language": "python",
   "name": "python2"
  },
  "language_info": {
   "codemirror_mode": {
    "name": "ipython",
    "version": 2
   },
   "file_extension": ".py",
   "mimetype": "text/x-python",
   "name": "python",
   "nbconvert_exporter": "python",
   "pygments_lexer": "ipython2",
   "version": "2.7.6"
  }
 },
 "nbformat": 4,
 "nbformat_minor": 2
}
