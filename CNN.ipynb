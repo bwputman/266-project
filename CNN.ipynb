{
 "cells": [
  {
   "cell_type": "code",
   "execution_count": 1,
   "metadata": {},
   "outputs": [
    {
     "name": "stderr",
     "output_type": "stream",
     "text": [
      "Using TensorFlow backend.\n"
     ]
    }
   ],
   "source": [
    "%matplotlib inline\n",
    "import re\n",
    "import csv\n",
    "import keras\n",
    "import numpy as np\n",
    "import pandas as pd\n",
    "import matplotlib.pyplot as plt"
   ]
  },
  {
   "cell_type": "code",
   "execution_count": 2,
   "metadata": {
    "collapsed": true
   },
   "outputs": [],
   "source": [
    "# The function \"text_to_wordlist\" is adapted from:\n",
    "# kaggle.com/currie32/quora-question-pairs/the-importance-of-cleaning-text\n",
    "\n",
    "def text_to_wordlist(\n",
    "                     question, \n",
    "                     remove_stopwords   = False, \n",
    "                     stem_words         = False,\n",
    "                     remove_punctuation = False\n",
    "                    ):\n",
    "\n",
    "    question = re.sub( r\"[^A-Za-z0-9^,!.\\/'+-=]\", \" \"          , question)\n",
    "    question = re.sub( r\"what's\"                , \"what is \"   , question)\n",
    "    question = re.sub( r\"\\'s\"                   , \" \"          , question)\n",
    "    question = re.sub( r\"\\'ve\"                  , \" have \"     , question)\n",
    "    question = re.sub( r\"can't\"                 , \"cannot \"    , question)\n",
    "    question = re.sub( r\"n't\"                   , \" not \"      , question)\n",
    "    question = re.sub( r\"i'm\"                   , \"i am \"      , question)\n",
    "    question = re.sub( r\"\\'re\"                  , \" are \"      , question)\n",
    "    question = re.sub( r\"\\'d\"                   , \" would \"    , question)\n",
    "    question = re.sub( r\"\\'ll\"                  , \" will \"     , question)\n",
    "    question = re.sub( r\",\"                     , \" \"          , question)\n",
    "    question = re.sub( r\"\\.\"                    , \" \"          , question)\n",
    "    question = re.sub( r\"!\"                     , \" ! \"        , question)\n",
    "    question = re.sub( r\"\\/\"                    , \" \"          , question)\n",
    "    question = re.sub( r\"\\^\"                    , \" ^ \"        , question)\n",
    "    question = re.sub( r\"\\+\"                    , \" + \"        , question)\n",
    "    question = re.sub( r\"\\-\"                    , \" - \"        , question)\n",
    "    question = re.sub( r\"\\=\"                    , \" = \"        , question)\n",
    "    question = re.sub( r\"'\"                     , \" \"          , question)\n",
    "    question = re.sub( r\"(\\d+)(k)\"              , r\"\\g<1>000\"  , question)\n",
    "    question = re.sub( r\":\"                     , \" : \"        , question)\n",
    "    question = re.sub( r\" e g \"                 , \" eg \"       , question)\n",
    "    question = re.sub( r\" b g \"                 , \" bg \"       , question)\n",
    "    question = re.sub( r\" u s \"                 , \" american \" , question)\n",
    "    question = re.sub( r\"\\0s\"                   , \"0\"          , question)\n",
    "    question = re.sub( r\" 9 11 \"                , \"911\"        , question)\n",
    "    question = re.sub( r\"e - mail\"              , \"email\"      , question)\n",
    "    question = re.sub( r\"j k\"                   , \"jk\"         , question)\n",
    "    question = re.sub( r\"\\s{2,}\"                , \" \"          , question)\n",
    "\n",
    "    if remove_stopwords:\n",
    "        question = question.lower().split()\n",
    "        question = [w for w in question if not w in nltk.corpus.stopwords.words(\"english\")]\n",
    "        question = ' '.join(question)\n",
    "\n",
    "    if stem_words:        \n",
    "        question      = question.lower().split()\n",
    "        stemmed_words = [nltk.stem.SnowballStemmer('english').stemmer.stem(word) for word in question]\n",
    "        question      = ' '.join(stemmed_words)\n",
    "\n",
    "    if remove_punctuation:\n",
    "        question = ''.join([character for character in question if character not in string.punctuation])\n",
    "    \n",
    "    return(question)"
   ]
  },
  {
   "cell_type": "code",
   "execution_count": 3,
   "metadata": {
    "collapsed": true
   },
   "outputs": [],
   "source": [
    "training_data_pd = pd.read_csv( '/home/ubuntu/train.csv' )\n",
    "testing_data_pd  = pd.read_csv( '/home/ubuntu/test.csv'  )"
   ]
  },
  {
   "cell_type": "code",
   "execution_count": 4,
   "metadata": {},
   "outputs": [
    {
     "name": "stdout",
     "output_type": "stream",
     "text": [
      "Processing training dataset\n",
      "Found 404290 question pairs in train.csv\n",
      "Processing test dataset\n",
      "Found 2345796 question pairs in test.csv\n"
     ]
    }
   ],
   "source": [
    "####################################################\n",
    "\n",
    "print 'Processing training dataset'\n",
    "\n",
    "training_questions_1 = [] \n",
    "training_questions_2 = []\n",
    "training_labels      = []\n",
    "\n",
    "with open( '/home/ubuntu/train.csv' ) as f:\n",
    "    \n",
    "    reader = csv.reader(f, delimiter=',')\n",
    "    header = next(reader)\n",
    "    \n",
    "    for row in reader:\n",
    "        \n",
    "        training_questions_1.append( text_to_wordlist ( row[3] ))\n",
    "        training_questions_2.append( text_to_wordlist ( row[4] ))\n",
    "        training_labels.append( int(row[5] ))\n",
    "        \n",
    "print 'Found %s question pairs in train.csv' % len(training_questions_1)\n",
    "\n",
    "####################################################\n",
    "\n",
    "print 'Processing test dataset'\n",
    "\n",
    "test_questions_1  = []\n",
    "test_questions_2  = []\n",
    "test_question_ids = []\n",
    "\n",
    "with open( '/home/ubuntu/test.csv' ) as f:\n",
    "    \n",
    "    reader = csv.reader(f, delimiter=',')\n",
    "    header = next(reader)\n",
    "    \n",
    "    for row in reader:\n",
    "        \n",
    "        test_questions_1.append( text_to_wordlist ( row[1] ))\n",
    "        test_questions_2.append( text_to_wordlist ( row[2] ))\n",
    "        test_question_ids.append( row[0] )\n",
    "        \n",
    "print 'Found %s question pairs in test.csv' % len(test_questions_1)\n",
    "\n",
    "####################################################"
   ]
  },
  {
   "cell_type": "code",
   "execution_count": 5,
   "metadata": {},
   "outputs": [
    {
     "name": "stdout",
     "output_type": "stream",
     "text": [
      "Tokenizing Words with KERAS\n",
      "Found 120539 unique word tokens\n"
     ]
    }
   ],
   "source": [
    "from keras.preprocessing.text import Tokenizer\n",
    "\n",
    "####################################################\n",
    "\n",
    "print 'Tokenizing Words with KERAS'\n",
    "\n",
    "tokenizer = Tokenizer()\n",
    "tokenizer.fit_on_texts ( \n",
    "                        training_questions_1 + \n",
    "                        training_questions_2 + \n",
    "                        test_questions_1  +\n",
    "                        test_questions_2\n",
    "                       )\n",
    "\n",
    "training_sequences_1 = tokenizer.texts_to_sequences( training_questions_1 )\n",
    "training_sequences_2 = tokenizer.texts_to_sequences( training_questions_2 )\n",
    "testing_sequences_1  = tokenizer.texts_to_sequences( test_questions_1 )\n",
    "testing_sequences_2  = tokenizer.texts_to_sequences( test_questions_2 )\n",
    "\n",
    "word_index = tokenizer.word_index\n",
    "\n",
    "print 'Found %s unique word tokens' % len(word_index)\n",
    "\n",
    "####################################################"
   ]
  },
  {
   "cell_type": "code",
   "execution_count": 6,
   "metadata": {},
   "outputs": [
    {
     "name": "stdout",
     "output_type": "stream",
     "text": [
      "Creating Tensors with KERAS\n",
      "Shape of training data tensor: (404290, 36)\n",
      "Shape of testing data tensor: (2345796, 36)\n",
      "Number of labels: 404290\n"
     ]
    }
   ],
   "source": [
    "from keras.preprocessing.sequence import pad_sequences\n",
    "\n",
    "maximum_sequence_length = 36\n",
    "\n",
    "####################################################\n",
    "\n",
    "print 'Creating Tensors with KERAS'\n",
    "\n",
    "training_data_1   = pad_sequences (\n",
    "                                   sequences  = training_sequences_1, \n",
    "                                   maxlen     = maximum_sequence_length\n",
    "                                  )\n",
    "\n",
    "training_data_2   = pad_sequences (\n",
    "                                   sequences  = training_sequences_2, \n",
    "                                   maxlen     = maximum_sequence_length \n",
    "                                  )\n",
    "\n",
    "testing_data_1    = pad_sequences (\n",
    "                                   sequences  = testing_sequences_1, \n",
    "                                   maxlen     = maximum_sequence_length,\n",
    "                                   padding    = 'post',\n",
    "                                   truncating = 'post'\n",
    "                                  )\n",
    "\n",
    "testing_data_2    = pad_sequences ( \n",
    "                                   sequences  = testing_sequences_2, \n",
    "                                   maxlen     = maximum_sequence_length,\n",
    "                                   padding    = 'post',\n",
    "                                   truncating = 'post'\n",
    "                                  )\n",
    "\n",
    "training_labels   = training_data_pd.is_duplicate\n",
    "\n",
    "print 'Shape of training data tensor:',  training_data_1.shape\n",
    "print 'Shape of testing data tensor:',   testing_data_1.shape\n",
    "print 'Number of labels:',               len(training_labels)\n",
    "\n",
    "####################################################"
   ]
  },
  {
   "cell_type": "code",
   "execution_count": 7,
   "metadata": {},
   "outputs": [
    {
     "name": "stdout",
     "output_type": "stream",
     "text": [
      "Indexing word vectors\n",
      "Found 2196017 word vectors of word2vec\n"
     ]
    }
   ],
   "source": [
    "####################################################\n",
    "\n",
    "print 'Indexing word vectors'\n",
    "\n",
    "embeddings_index = {}\n",
    "\n",
    "with open( '/home/ubuntu/glove.840B.300d.txt' ) as f:\n",
    "\n",
    "    for line in f:\n",
    "\n",
    "        word_embeddings        = line.split(' ')\n",
    "        word                   = word_embeddings[0]\n",
    "        embedding              = np.asarray( word_embeddings[1:], dtype='float32' )\n",
    "        embeddings_index[word] = embedding\n",
    "\n",
    "print 'Found %s word vectors of word2vec' % len(embeddings_index)\n",
    "\n",
    "####################################################"
   ]
  },
  {
   "cell_type": "code",
   "execution_count": 8,
   "metadata": {},
   "outputs": [
    {
     "name": "stdout",
     "output_type": "stream",
     "text": [
      "Preparing embedding matrix\n",
      "Embedding Matrix Shape: (120540, 300)\n"
     ]
    }
   ],
   "source": [
    "embedding_dimension = 300\n",
    "\n",
    "####################################################\n",
    "\n",
    "print 'Preparing embedding matrix'\n",
    "\n",
    "number_of_words = len(word_index)\n",
    "\n",
    "embedding_matrix = np.zeros( (number_of_words + 1, embedding_dimension) )\n",
    "\n",
    "for word, i in word_index.items():\n",
    "    \n",
    "    embedding_vector = embeddings_index.get(word)\n",
    "    \n",
    "    if embedding_vector is not None:\n",
    "        \n",
    "        embedding_matrix[i] = embedding_vector\n",
    "\n",
    "print 'Embedding Matrix Shape:', embedding_matrix.shape\n",
    "\n",
    "####################################################"
   ]
  },
  {
   "cell_type": "code",
   "execution_count": 9,
   "metadata": {},
   "outputs": [
    {
     "name": "stdout",
     "output_type": "stream",
     "text": [
      "Prepared model parameters\n"
     ]
    }
   ],
   "source": [
    "####################################################\n",
    "\n",
    "print 'Prepared model parameters'\n",
    "\n",
    "number_nodes       = 128  # Number of nodes in the Dense layers\n",
    "percentage_dropout = 0.25 # Percentage of nodes to drop\n",
    "number_filters     = 32   # Number of filters to use in Convolution1D\n",
    "filter_length      = 3    # Length of filter for Convolution1D\n",
    "\n",
    "weights            = keras.initializers.TruncatedNormal (\n",
    "                                                         mean   = 0.0, \n",
    "                                                         stddev = 0.05, \n",
    "                                                         seed   = 2\n",
    "                                                        )\n",
    "bias               = bias_initializer = 'zeros'\n",
    "\n",
    "####################################################"
   ]
  },
  {
   "cell_type": "code",
   "execution_count": 10,
   "metadata": {},
   "outputs": [
    {
     "name": "stdout",
     "output_type": "stream",
     "text": [
      "Defined the model\n"
     ]
    },
    {
     "name": "stderr",
     "output_type": "stream",
     "text": [
      "/usr/local/lib/python2.7/dist-packages/IPython/kernel/__main__.py:113: UserWarning: The `Merge` layer is deprecated and will be removed after 08/2017. Use instead layers from `keras.layers.merge`, e.g. `add`, `concatenate`, etc.\n",
      "/usr/local/lib/python2.7/dist-packages/IPython/kernel/__main__.py:140: UserWarning: The `Merge` layer is deprecated and will be removed after 08/2017. Use instead layers from `keras.layers.merge`, e.g. `add`, `concatenate`, etc.\n",
      "/usr/local/lib/python2.7/dist-packages/IPython/kernel/__main__.py:167: UserWarning: The `Merge` layer is deprecated and will be removed after 08/2017. Use instead layers from `keras.layers.merge`, e.g. `add`, `concatenate`, etc.\n"
     ]
    },
    {
     "name": "stdout",
     "output_type": "stream",
     "text": [
      "_________________________________________________________________\n",
      "Layer (type)                 Output Shape              Param #   \n",
      "=================================================================\n",
      "merge_3 (Merge)              (None, 256)               0         \n",
      "_________________________________________________________________\n",
      "dense_7 (Dense)              (None, 256)               65792     \n",
      "_________________________________________________________________\n",
      "batch_normalization_11 (Batc (None, 256)               1024      \n",
      "_________________________________________________________________\n",
      "activation_11 (Activation)   (None, 256)               0         \n",
      "_________________________________________________________________\n",
      "dropout_11 (Dropout)         (None, 256)               0         \n",
      "_________________________________________________________________\n",
      "dense_8 (Dense)              (None, 128)               32896     \n",
      "_________________________________________________________________\n",
      "batch_normalization_12 (Batc (None, 128)               512       \n",
      "_________________________________________________________________\n",
      "activation_12 (Activation)   (None, 128)               0         \n",
      "_________________________________________________________________\n",
      "dropout_12 (Dropout)         (None, 128)               0         \n",
      "_________________________________________________________________\n",
      "dense_9 (Dense)              (None, 128)               16512     \n",
      "_________________________________________________________________\n",
      "batch_normalization_13 (Batc (None, 128)               512       \n",
      "_________________________________________________________________\n",
      "activation_13 (Activation)   (None, 128)               0         \n",
      "_________________________________________________________________\n",
      "dropout_13 (Dropout)         (None, 128)               0         \n",
      "_________________________________________________________________\n",
      "dense_10 (Dense)             (None, 1)                 129       \n",
      "_________________________________________________________________\n",
      "batch_normalization_14 (Batc (None, 1)                 4         \n",
      "_________________________________________________________________\n",
      "activation_14 (Activation)   (None, 1)                 0         \n",
      "=================================================================\n",
      "Total params: 145,825,565\n",
      "Trainable params: 1,173,547\n",
      "Non-trainable params: 144,652,018\n",
      "_________________________________________________________________\n"
     ]
    }
   ],
   "source": [
    "from keras.models import Sequential\n",
    "\n",
    "####################################################\n",
    "\n",
    "print 'Defined the model'\n",
    "\n",
    "model1 = Sequential()\n",
    "\n",
    "model1.add(keras.layers.Embedding (\n",
    "                                   input_dim    = number_of_words + 1,\n",
    "                                   output_dim   = embedding_dimension,\n",
    "                                   weights      = [embedding_matrix],\n",
    "                                   input_length = maximum_sequence_length,\n",
    "                                   trainable    = False\n",
    "                                  ))\n",
    "\n",
    "model1.add(keras.layers.Convolution1D (\n",
    "                                       filters     = number_filters, \n",
    "                                       kernel_size = filter_length, \n",
    "                                       padding     = 'same'\n",
    "                                      ))\n",
    "\n",
    "model1.add(keras.layers.BatchNormalization())\n",
    "model1.add(keras.layers.Activation( 'relu' ))\n",
    "model1.add(keras.layers.Dropout( percentage_dropout ))\n",
    "\n",
    "model1.add(keras.layers.Convolution1D (\n",
    "                                       filters     = number_filters, \n",
    "                                       kernel_size = filter_length, \n",
    "                                       padding     = 'same'\n",
    "                                      ))\n",
    "\n",
    "model1.add(keras.layers.BatchNormalization())\n",
    "model1.add(keras.layers.Activation('relu'))\n",
    "model1.add(keras.layers.Dropout( percentage_dropout ))\n",
    "\n",
    "model1.add(keras.layers.Flatten())\n",
    "\n",
    "model2 = Sequential()\n",
    "\n",
    "model2.add(keras.layers.Embedding (\n",
    "                                   input_dim    = number_of_words + 1,\n",
    "                                   output_dim   = embedding_dimension,\n",
    "                                   weights      = [embedding_matrix],\n",
    "                                   input_length = maximum_sequence_length,\n",
    "                                   trainable    = False\n",
    "                                  ))\n",
    "\n",
    "model2.add(keras.layers.Convolution1D (\n",
    "                                       filters     = number_filters, \n",
    "                                       kernel_size = filter_length, \n",
    "                                       padding     = 'same'\n",
    "                                      ))\n",
    "\n",
    "model2.add(keras.layers.BatchNormalization())\n",
    "model2.add(keras.layers.Activation('relu'))\n",
    "model2.add(keras.layers.Dropout( percentage_dropout ))\n",
    "\n",
    "model2.add(keras.layers.Convolution1D (\n",
    "                                       filters     = number_filters, \n",
    "                                       kernel_size = filter_length, \n",
    "                                       padding     = 'same'\n",
    "                                      ))\n",
    "\n",
    "model2.add(keras.layers.BatchNormalization())\n",
    "model2.add(keras.layers.Activation('relu'))\n",
    "model2.add(keras.layers.Dropout( percentage_dropout ))\n",
    "\n",
    "model2.add(keras.layers.Flatten())\n",
    "\n",
    "model3 = Sequential()\n",
    "\n",
    "model3.add(keras.layers.Embedding (\n",
    "                                   input_dim    = number_of_words + 1,\n",
    "                                   output_dim   = embedding_dimension,\n",
    "                                   weights      = [embedding_matrix],\n",
    "                                   input_length = maximum_sequence_length,\n",
    "                                   trainable    = False\n",
    "                                  ))\n",
    "\n",
    "model3.add(keras.layers.TimeDistributed(keras.layers.Dense( embedding_dimension )))\n",
    "model3.add(keras.layers.BatchNormalization())\n",
    "model3.add(keras.layers.Activation('relu'))\n",
    "model3.add(keras.layers.Dropout( percentage_dropout ))\n",
    "model3.add(keras.layers.Lambda (\n",
    "                                lambda x: keras.backend.max(x, axis=1), \n",
    "                                output_shape = ( embedding_dimension, )\n",
    "                               ))\n",
    "\n",
    "model4 = Sequential()\n",
    "\n",
    "model4.add(keras.layers.Embedding (\n",
    "                                   input_dim    = number_of_words + 1,\n",
    "                                   output_dim   = embedding_dimension,\n",
    "                                   weights      = [embedding_matrix],\n",
    "                                   input_length = maximum_sequence_length,\n",
    "                                   trainable    = False\n",
    "                                  ))\n",
    "\n",
    "model4.add(keras.layers.TimeDistributed(keras.layers.Dense( embedding_dimension )))\n",
    "model4.add(keras.layers.BatchNormalization())\n",
    "model4.add(keras.layers.Activation('relu'))\n",
    "model4.add(keras.layers.Dropout( percentage_dropout ))\n",
    "model4.add(keras.layers.Lambda (\n",
    "                                lambda x: keras.backend.max(x, axis=1), \n",
    "                                output_shape = ( embedding_dimension, )\n",
    "                               ))\n",
    "\n",
    "modela = Sequential()\n",
    "\n",
    "modela.add(keras.layers.Merge (\n",
    "                               [model1, model2], \n",
    "                               mode = 'concat'\n",
    "                              ))\n",
    "\n",
    "modela.add(keras.layers.Dense (\n",
    "                               units              = number_nodes * 2, \n",
    "                               kernel_initializer = weights, \n",
    "                               bias_initializer   = bias\n",
    "                              ))\n",
    "\n",
    "modela.add(keras.layers.BatchNormalization())\n",
    "modela.add(keras.layers.Activation('relu'))\n",
    "modela.add(keras.layers.Dropout(percentage_dropout))\n",
    "\n",
    "modela.add(keras.layers.Dense (\n",
    "                               units              = number_nodes, \n",
    "                               kernel_initializer = weights, \n",
    "                               bias_initializer   = bias\n",
    "                              ))\n",
    "\n",
    "modela.add(keras.layers.BatchNormalization())\n",
    "modela.add(keras.layers.Activation('relu'))\n",
    "modela.add(keras.layers.Dropout( percentage_dropout ))\n",
    "\n",
    "modelb = Sequential()\n",
    "\n",
    "modelb.add(keras.layers.Merge (\n",
    "                               [model3, model4], \n",
    "                               mode = 'concat'\n",
    "                              ))\n",
    "\n",
    "modelb.add(keras.layers.Dense (\n",
    "                               units              = number_nodes * 2, \n",
    "                               kernel_initializer = weights, \n",
    "                               bias_initializer   = bias\n",
    "                              ))\n",
    "\n",
    "modelb.add(keras.layers.BatchNormalization())\n",
    "modelb.add(keras.layers.Activation('relu'))\n",
    "modelb.add(keras.layers.Dropout( percentage_dropout ))\n",
    "\n",
    "modelb.add(keras.layers.Dense (\n",
    "                               units              = number_nodes, \n",
    "                               kernel_initializer = weights, \n",
    "                               bias_initializer   = bias\n",
    "                              ))\n",
    "\n",
    "modelb.add(keras.layers.BatchNormalization())\n",
    "modelb.add(keras.layers.Activation('relu'))\n",
    "modelb.add(keras.layers.Dropout( percentage_dropout ))\n",
    "\n",
    "model = Sequential()\n",
    "\n",
    "model.add(keras.layers.Merge ( \n",
    "                              [modela, modelb], \n",
    "                              mode = 'concat'\n",
    "                             ))\n",
    "\n",
    "model.add(keras.layers.Dense (\n",
    "                              units              = number_nodes * 2, \n",
    "                              kernel_initializer = weights, \n",
    "                              bias_initializer   = bias\n",
    "                             ))\n",
    "\n",
    "model.add(keras.layers.BatchNormalization())\n",
    "model.add(keras.layers.Activation('relu'))\n",
    "model.add(keras.layers.Dropout( percentage_dropout ))\n",
    "\n",
    "model.add(keras.layers.Dense (\n",
    "                              units              = number_nodes, \n",
    "                              kernel_initializer = weights, \n",
    "                              bias_initializer   = bias\n",
    "                             ))\n",
    "\n",
    "model.add(keras.layers.BatchNormalization())\n",
    "model.add(keras.layers.Activation('relu'))\n",
    "model.add(keras.layers.Dropout( percentage_dropout ))\n",
    "\n",
    "model.add(keras.layers.Dense (\n",
    "                              units              = number_nodes, \n",
    "                              kernel_initializer = weights, \n",
    "                              bias_initializer   = bias\n",
    "                             ))\n",
    "\n",
    "model.add(keras.layers.BatchNormalization())\n",
    "model.add(keras.layers.Activation('relu'))\n",
    "model.add(keras.layers.Dropout( percentage_dropout ))\n",
    "\n",
    "model.add(keras.layers.Dense (\n",
    "                              units              = 1, \n",
    "                              kernel_initializer = weights, \n",
    "                              bias_initializer   = bias\n",
    "                             ))\n",
    "\n",
    "model.add(keras.layers.BatchNormalization())\n",
    "model.add(keras.layers.Activation('sigmoid'))\n",
    "\n",
    "model.compile (\n",
    "               loss      = 'binary_crossentropy', \n",
    "               optimizer = 'adam', \n",
    "               metrics   = ['accuracy']\n",
    "              )\n",
    "\n",
    "model.summary()\n",
    "\n",
    "####################################################"
   ]
  },
  {
   "cell_type": "code",
   "execution_count": 11,
   "metadata": {},
   "outputs": [
    {
     "name": "stdout",
     "output_type": "stream",
     "text": [
      "Execute the model\n",
      "Train on 343646 samples, validate on 60644 samples\n",
      "Epoch 1/2\n",
      "343646/343646 [==============================] - 77s - loss: 0.5248 - acc: 0.7363 - val_loss: 0.4785 - val_acc: 0.7583\n",
      "Epoch 2/2\n",
      "343646/343646 [==============================] - 73s - loss: 0.4554 - acc: 0.7792 - val_loss: 0.4298 - val_acc: 0.7923\n",
      "\n",
      " Best Score: 0.429842555417\n"
     ]
    }
   ],
   "source": [
    "####################################################\n",
    "\n",
    "print 'Execute the model'\n",
    "\n",
    "CNN_best_weights = 'CNN_best_weights.h5'\n",
    "\n",
    "callbacks = [\n",
    "             keras.callbacks.ModelCheckpoint (\n",
    "                                              filepath       = CNN_best_weights, \n",
    "                                              monitor        = 'val_loss', \n",
    "                                              save_best_only = True\n",
    "                                             ),\n",
    "\n",
    "             keras.callbacks.EarlyStopping (\n",
    "                                            monitor  = 'val_loss', \n",
    "                                            patience = 5, \n",
    "                                            verbose  = 1, \n",
    "                                            mode     = 'auto'\n",
    "                                           )\n",
    "            ]\n",
    "\n",
    "hist = model.fit (\n",
    "                  x                = [training_data_1, training_data_2, training_data_1, training_data_2],\n",
    "                  y                = training_labels,\n",
    "                  batch_size       = 256,\n",
    "                  epochs           = 2,\n",
    "                  validation_split = 0.15,\n",
    "                  verbose          = True,\n",
    "                  shuffle          = True,\n",
    "                  callbacks        = callbacks\n",
    "                 )\n",
    "\n",
    "print '\\n Best Score:', min(hist.history['val_loss'])\n",
    "\n",
    "####################################################"
   ]
  },
  {
   "cell_type": "code",
   "execution_count": 12,
   "metadata": {},
   "outputs": [
    {
     "name": "stdout",
     "output_type": "stream",
     "text": [
      "Summary Statistics\n"
     ]
    },
    {
     "data": {
      "text/html": [
       "<div>\n",
       "<table border=\"1\" class=\"dataframe\">\n",
       "  <thead>\n",
       "    <tr style=\"text-align: right;\">\n",
       "      <th></th>\n",
       "      <th>epoch</th>\n",
       "      <th>train_acc</th>\n",
       "      <th>train_loss</th>\n",
       "      <th>valid_acc</th>\n",
       "      <th>valid_loss</th>\n",
       "    </tr>\n",
       "  </thead>\n",
       "  <tbody>\n",
       "    <tr>\n",
       "      <th>0</th>\n",
       "      <td>1</td>\n",
       "      <td>0.736304</td>\n",
       "      <td>0.524847</td>\n",
       "      <td>0.758278</td>\n",
       "      <td>0.478542</td>\n",
       "    </tr>\n",
       "    <tr>\n",
       "      <th>1</th>\n",
       "      <td>2</td>\n",
       "      <td>0.779250</td>\n",
       "      <td>0.455426</td>\n",
       "      <td>0.792313</td>\n",
       "      <td>0.429843</td>\n",
       "    </tr>\n",
       "  </tbody>\n",
       "</table>\n",
       "</div>"
      ],
      "text/plain": [
       "   epoch  train_acc  train_loss  valid_acc  valid_loss\n",
       "0      1   0.736304    0.524847   0.758278    0.478542\n",
       "1      2   0.779250    0.455426   0.792313    0.429843"
      ]
     },
     "execution_count": 12,
     "metadata": {},
     "output_type": "execute_result"
    }
   ],
   "source": [
    "####################################################\n",
    "\n",
    "print 'Summary Statistics'\n",
    "\n",
    "# Aggregate the summary statistics\n",
    "summary_stats = pd.DataFrame({\n",
    "                              'epoch'      : [ i + 1 for i in hist.epoch ],\n",
    "                              'train_acc'  : hist.history['acc'],\n",
    "                              'valid_acc'  : hist.history['val_acc'],\n",
    "                              'train_loss' : hist.history['loss'],\n",
    "                              'valid_loss' : hist.history['val_loss']\n",
    "                            })\n",
    "summary_stats\n",
    "\n",
    "####################################################"
   ]
  },
  {
   "cell_type": "code",
   "execution_count": 13,
   "metadata": {},
   "outputs": [
    {
     "name": "stdout",
     "output_type": "stream",
     "text": [
      "Summary Plots\n"
     ]
    },
    {
     "data": {
      "image/png": "[encoded data removed]",
      "text/plain": [
       "<matplotlib.figure.Figure at 0x7fc7d5dcf610>"
      ]
     },
     "metadata": {},
     "output_type": "display_data"
    }
   ],
   "source": [
    "####################################################\n",
    "\n",
    "print 'Summary Plots'\n",
    "\n",
    "plt.plot(summary_stats.train_loss) # blue\n",
    "plt.plot(summary_stats.valid_loss) # green\n",
    "plt.show()\n",
    "\n",
    "####################################################"
   ]
  },
  {
   "cell_type": "code",
   "execution_count": 14,
   "metadata": {},
   "outputs": [
    {
     "name": "stdout",
     "output_type": "stream",
     "text": [
      "Minimum Validation Loss During Training\n",
      "('Minimum loss at epoch', '2', '=', '0.4298')\n"
     ]
    }
   ],
   "source": [
    "####################################################\n",
    "\n",
    "print 'Minimum Validation Loss During Training'\n",
    "\n",
    "min_loss, idx = min( (loss, idx) for (idx, loss) in enumerate( hist.history['val_loss'] ))\n",
    "\n",
    "print('Minimum loss at epoch', '{:d}'.format(idx+1), '=', '{:.4f}'.format(min_loss))\n",
    "\n",
    "####################################################"
   ]
  },
  {
   "cell_type": "code",
   "execution_count": 15,
   "metadata": {},
   "outputs": [
    {
     "name": "stdout",
     "output_type": "stream",
     "text": [
      "Save the predictions to a file for submission\n",
      "2345760/2345796 [============================>.] - ETA: 0sModel Saved\n"
     ]
    }
   ],
   "source": [
    "####################################################\n",
    "\n",
    "print 'Save the predictions to a file for submission'\n",
    "\n",
    "model.load_weights( CNN_best_weights )\n",
    "\n",
    "predictions = model.predict (\n",
    "                             x       = [\n",
    "                                        testing_data_1, \n",
    "                                        testing_data_2, \n",
    "                                        testing_data_1, \n",
    "                                        testing_data_2\n",
    "                                       ], \n",
    "                             verbose = True\n",
    "                            )\n",
    "\n",
    "submission = pd.DataFrame(predictions, columns=['is_duplicate'])\n",
    "submission.insert(0, 'test_id', testing_data_pd.test_id)\n",
    "submission.to_csv('CNN_submission_to_kaggle.csv', index=False)\n",
    "\n",
    "print 'Model Saved'\n",
    "\n",
    "####################################################"
   ]
  },
  {
   "cell_type": "code",
   "execution_count": 16,
   "metadata": {},
   "outputs": [
    {
     "name": "stdout",
     "output_type": "stream",
     "text": [
      "/home/ubuntu/pynb\n",
      "-rw-rw-r-- 1 ubuntu ubuntu 54538437 Aug 12 04:04 CNN_submission_to_kaggle.csv\n"
     ]
    }
   ],
   "source": [
    "!pwd\n",
    "!ls -l CNN_submission_to_kaggle.csv"
   ]
  },
  {
   "cell_type": "code",
   "execution_count": null,
   "metadata": {
    "collapsed": true
   },
   "outputs": [],
   "source": []
  }
 ],
 "metadata": {
  "hide_input": false,
  "kernelspec": {
   "display_name": "Python 2",
   "language": "python",
   "name": "python2"
  },
  "language_info": {
   "codemirror_mode": {
    "name": "ipython",
    "version": 2
   },
   "file_extension": ".py",
   "mimetype": "text/x-python",
   "name": "python",
   "nbconvert_exporter": "python",
   "pygments_lexer": "ipython2",
   "version": "2.7.6"
  }
 },
 "nbformat": 4,
 "nbformat_minor": 2
}
