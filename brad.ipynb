{
 "cells": [
  {
   "cell_type": "code",
   "execution_count": 4,
   "metadata": {
    "collapsed": true
   },
   "outputs": [],
   "source": [
    "# import packages\n",
    "import os\n",
    "import pandas as pd"
   ]
  },
  {
   "cell_type": "code",
   "execution_count": 5,
   "metadata": {},
   "outputs": [
    {
     "name": "stdout",
     "output_type": "stream",
     "text": [
      "Archive:  ./data/test_1.csv.zip\n",
      "  inflating: data/test_1.csv         \n",
      "  inflating: data/__MACOSX/._test_1.csv  \n",
      "Archive:  ./data/test_2.csv.zip\n",
      "  inflating: data/test_2.csv         \n",
      "  inflating: data/__MACOSX/._test_2.csv  \n"
     ]
    }
   ],
   "source": [
    "# unzip files (if necessary)\n",
    "if not os.path.isfile('./data/train.csv'):\n",
    "    !unzip -u ./data/train.csv.zip -d data \n",
    "if not os.path.isfile('./data/test_1.csv'):\n",
    "    !unzip -u ./data/test_1.csv.zip -d data \n",
    "if not os.path.isfile('./data/test_2.csv'):\n",
    "    !unzip -u ./data/test_2.csv.zip -d data"
   ]
  },
  {
   "cell_type": "code",
   "execution_count": 6,
   "metadata": {},
   "outputs": [
    {
     "name": "stdout",
     "output_type": "stream",
     "text": [
      "Training data shape:\t(404290, 6)\n",
      "Test data shape:\t(2345796, 3)\n"
     ]
    }
   ],
   "source": [
    "# load data\n",
    "train_data = pd.read_csv('data/train.csv')\n",
    "print \"Training data shape:\\t\" + str(train_data.shape)\n",
    "\n",
    "test_data = pd.read_csv('data/test_1.csv').merge(right = pd.read_csv('data/test_2.csv'), \n",
    "                                                 how = 'outer')\n",
    "print \"Test data shape:\\t\" + str(test_data.shape)"
   ]
  },
  {
   "cell_type": "code",
   "execution_count": 9,
   "metadata": {},
   "outputs": [
    {
     "name": "stdout",
     "output_type": "stream",
     "text": [
      "   id  qid1  qid2                                          question1  \\\n",
      "0   0     1     2  What is the step by step guide to invest in sh...   \n",
      "1   1     3     4  What is the story of Kohinoor (Koh-i-Noor) Dia...   \n",
      "2   2     5     6  How can I increase the speed of my internet co...   \n",
      "3   3     7     8  Why am I mentally very lonely? How can I solve...   \n",
      "4   4     9    10  Which one dissolve in water quikly sugar, salt...   \n",
      "\n",
      "                                           question2  is_duplicate  \n",
      "0  What is the step by step guide to invest in sh...             0  \n",
      "1  What would happen if the Indian government sto...             0  \n",
      "2  How can Internet speed be increased by hacking...             0  \n",
      "3  Find the remainder when [math]23^{24}[/math] i...             0  \n",
      "4            Which fish would survive in salt water?             0  \n",
      "\n",
      "\n",
      "\n",
      "   test_id                                          question1  \\\n",
      "0        0  How does the Surface Pro himself 4 compare wit...   \n",
      "1        1  Should I have a hair transplant at age 24? How...   \n",
      "2        2  What but is the best way to send money from Ch...   \n",
      "3        3                        Which food not emulsifiers?   \n",
      "4        4                   How \"aberystwyth\" start reading?   \n",
      "\n",
      "                                           question2  \n",
      "0  Why did Microsoft choose core m3 and not core ...  \n",
      "1        How much cost does hair transplant require?  \n",
      "2                      What you send money to China?  \n",
      "3                                  What foods fibre?  \n",
      "4                     How their can I start reading?  \n"
     ]
    }
   ],
   "source": [
    "print(train_data.head())\n",
    "print \"\\n\\n\"\n",
    "print(test_data.head())"
   ]
  },
  {
   "cell_type": "code",
   "execution_count": null,
   "metadata": {
    "collapsed": true
   },
   "outputs": [],
   "source": []
  }
 ],
 "metadata": {
  "kernelspec": {
   "display_name": "Python 2",
   "language": "python",
   "name": "python2"
  },
  "language_info": {
   "codemirror_mode": {
    "name": "ipython",
    "version": 2
   },
   "file_extension": ".py",
   "mimetype": "text/x-python",
   "name": "python",
   "nbconvert_exporter": "python",
   "pygments_lexer": "ipython2",
   "version": "2.7.13"
  }
 },
 "nbformat": 4,
 "nbformat_minor": 2
}
